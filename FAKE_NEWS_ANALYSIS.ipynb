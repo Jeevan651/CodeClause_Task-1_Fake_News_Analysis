{
  "nbformat": 4,
  "nbformat_minor": 0,
  "metadata": {
    "colab": {
      "provenance": []
    },
    "kernelspec": {
      "name": "python3",
      "display_name": "Python 3"
    },
    "language_info": {
      "name": "python"
    }
  },
  "cells": [
    {
      "cell_type": "code",
      "execution_count": 1,
      "metadata": {
        "id": "1ysM-Co0MxzG"
      },
      "outputs": [],
      "source": [
        "import numpy as np\n",
        "import pandas as pd\n",
        "import re\n",
        "from nltk.corpus import stopwords\n",
        "from nltk.stem.porter import PorterStemmer\n",
        "from sklearn.feature_extraction.text import TfidfVectorizer\n",
        "from sklearn.model_selection import train_test_split\n",
        "from sklearn.linear_model import LogisticRegression\n",
        "from sklearn.metrics import accuracy_score\n"
      ]
    },
    {
      "cell_type": "code",
      "source": [
        "import nltk\n",
        "nltk.download('stopwords')\n"
      ],
      "metadata": {
        "colab": {
          "base_uri": "https://localhost:8080/"
        },
        "id": "wpnKCgjeM7HQ",
        "outputId": "f0073ab0-58e0-4415-8ae7-82e8caceaf27"
      },
      "execution_count": 2,
      "outputs": [
        {
          "output_type": "stream",
          "name": "stderr",
          "text": [
            "[nltk_data] Downloading package stopwords to /root/nltk_data...\n",
            "[nltk_data]   Unzipping corpora/stopwords.zip.\n"
          ]
        },
        {
          "output_type": "execute_result",
          "data": {
            "text/plain": [
              "True"
            ]
          },
          "metadata": {},
          "execution_count": 2
        }
      ]
    },
    {
      "cell_type": "code",
      "source": [
        "# PRINTING THE STOPWORDS IN ENGLISH\n",
        "print(stopwords.words('english'))"
      ],
      "metadata": {
        "colab": {
          "base_uri": "https://localhost:8080/"
        },
        "id": "KQmQS4iqM-FT",
        "outputId": "09e9f4a8-1a6d-4d16-a0b8-61523e8c864b"
      },
      "execution_count": 3,
      "outputs": [
        {
          "output_type": "stream",
          "name": "stdout",
          "text": [
            "['i', 'me', 'my', 'myself', 'we', 'our', 'ours', 'ourselves', 'you', \"you're\", \"you've\", \"you'll\", \"you'd\", 'your', 'yours', 'yourself', 'yourselves', 'he', 'him', 'his', 'himself', 'she', \"she's\", 'her', 'hers', 'herself', 'it', \"it's\", 'its', 'itself', 'they', 'them', 'their', 'theirs', 'themselves', 'what', 'which', 'who', 'whom', 'this', 'that', \"that'll\", 'these', 'those', 'am', 'is', 'are', 'was', 'were', 'be', 'been', 'being', 'have', 'has', 'had', 'having', 'do', 'does', 'did', 'doing', 'a', 'an', 'the', 'and', 'but', 'if', 'or', 'because', 'as', 'until', 'while', 'of', 'at', 'by', 'for', 'with', 'about', 'against', 'between', 'into', 'through', 'during', 'before', 'after', 'above', 'below', 'to', 'from', 'up', 'down', 'in', 'out', 'on', 'off', 'over', 'under', 'again', 'further', 'then', 'once', 'here', 'there', 'when', 'where', 'why', 'how', 'all', 'any', 'both', 'each', 'few', 'more', 'most', 'other', 'some', 'such', 'no', 'nor', 'not', 'only', 'own', 'same', 'so', 'than', 'too', 'very', 's', 't', 'can', 'will', 'just', 'don', \"don't\", 'should', \"should've\", 'now', 'd', 'll', 'm', 'o', 're', 've', 'y', 'ain', 'aren', \"aren't\", 'couldn', \"couldn't\", 'didn', \"didn't\", 'doesn', \"doesn't\", 'hadn', \"hadn't\", 'hasn', \"hasn't\", 'haven', \"haven't\", 'isn', \"isn't\", 'ma', 'mightn', \"mightn't\", 'mustn', \"mustn't\", 'needn', \"needn't\", 'shan', \"shan't\", 'shouldn', \"shouldn't\", 'wasn', \"wasn't\", 'weren', \"weren't\", 'won', \"won't\", 'wouldn', \"wouldn't\"]\n"
          ]
        }
      ]
    },
    {
      "cell_type": "code",
      "source": [
        "# LOADING THE DATASET TO A PANDAS DATAFRAME\n",
        "news_dataset = pd.read_csv('/content/news.csv')"
      ],
      "metadata": {
        "colab": {
          "base_uri": "https://localhost:8080/"
        },
        "id": "5DmN6erHNI38",
        "outputId": "769be45b-93d4-4812-ad16-e5936c891c79"
      },
      "execution_count": 12,
      "outputs": [
        {
          "output_type": "stream",
          "name": "stderr",
          "text": [
            "<ipython-input-12-fd555db9e637>:2: DtypeWarning: Columns (24,25,26,27,28,29,30,31,32,33,34,35,36,37,38,39,40,41,42,43,44,45,46,47,48,49,50,51,52,53,54,55,56,57,58,59,60,61,62,63,64,65,66,67,68,69,70,71,72,73,74,75,76,77,78,79,80,81,82,83,84,85,86,87,88,89,90,91,92,93,94,95,96,97,98,99,100,101,102,103,104,105,106,107,108,109,110,111,112,113,114,115,116,117,118,119,120,121,122,123,124,125,126,127,128,129,130,131,132,133,134,135,136,137,138,139,140) have mixed types. Specify dtype option on import or set low_memory=False.\n",
            "  news_dataset = pd.read_csv('/content/news.csv')\n"
          ]
        }
      ]
    },
    {
      "cell_type": "code",
      "source": [
        "news_dataset.shape\n"
      ],
      "metadata": {
        "colab": {
          "base_uri": "https://localhost:8080/"
        },
        "id": "3xdT4rjpQcXr",
        "outputId": "ac8b4994-5a09-41e6-94dd-b9321f6de36c"
      },
      "execution_count": 13,
      "outputs": [
        {
          "output_type": "execute_result",
          "data": {
            "text/plain": [
              "(7795, 141)"
            ]
          },
          "metadata": {},
          "execution_count": 13
        }
      ]
    },
    {
      "cell_type": "code",
      "source": [
        "news_dataset.head()"
      ],
      "metadata": {
        "colab": {
          "base_uri": "https://localhost:8080/",
          "height": 698
        },
        "id": "1qIyJAJoQd3P",
        "outputId": "48ad98eb-3623-430e-ae16-dd56c76024fc"
      },
      "execution_count": 14,
      "outputs": [
        {
          "output_type": "execute_result",
          "data": {
            "text/plain": [
              "  Unnamed: 0                                              title  \\\n",
              "0       8476                       You Can Smell Hillary’s Fear   \n",
              "1      10294  Watch The Exact Moment Paul Ryan Committed Pol...   \n",
              "2       3608        Kerry to go to Paris in gesture of sympathy   \n",
              "3      10142  Bernie supporters on Twitter erupt in anger ag...   \n",
              "4        875   The Battle of New York: Why This Primary Matters   \n",
              "\n",
              "                                                text label Unnamed: 4  \\\n",
              "0  Daniel Greenfield, a Shillman Journalism Fello...  FAKE        NaN   \n",
              "1  Google Pinterest Digg Linkedin Reddit Stumbleu...  FAKE        NaN   \n",
              "2  U.S. Secretary of State John F. Kerry said Mon...  REAL        NaN   \n",
              "3  — Kaydee King (@KaydeeKing) November 9, 2016 T...  FAKE        NaN   \n",
              "4  It's primary day in New York and front-runners...  REAL        NaN   \n",
              "\n",
              "  Unnamed: 5 Unnamed: 6 Unnamed: 7 Unnamed: 8 Unnamed: 9  ... Unnamed: 131  \\\n",
              "0        NaN        NaN        NaN        NaN        NaN  ...          NaN   \n",
              "1        NaN        NaN        NaN        NaN        NaN  ...          NaN   \n",
              "2        NaN        NaN        NaN        NaN        NaN  ...          NaN   \n",
              "3        NaN        NaN        NaN        NaN        NaN  ...          NaN   \n",
              "4        NaN        NaN        NaN        NaN        NaN  ...          NaN   \n",
              "\n",
              "  Unnamed: 132 Unnamed: 133 Unnamed: 134 Unnamed: 135 Unnamed: 136  \\\n",
              "0          NaN          NaN          NaN          NaN          NaN   \n",
              "1          NaN          NaN          NaN          NaN          NaN   \n",
              "2          NaN          NaN          NaN          NaN          NaN   \n",
              "3          NaN          NaN          NaN          NaN          NaN   \n",
              "4          NaN          NaN          NaN          NaN          NaN   \n",
              "\n",
              "  Unnamed: 137 Unnamed: 138 Unnamed: 139 Unnamed: 140  \n",
              "0          NaN          NaN          NaN          NaN  \n",
              "1          NaN          NaN          NaN          NaN  \n",
              "2          NaN          NaN          NaN          NaN  \n",
              "3          NaN          NaN          NaN          NaN  \n",
              "4          NaN          NaN          NaN          NaN  \n",
              "\n",
              "[5 rows x 141 columns]"
            ],
            "text/html": [
              "\n",
              "  <div id=\"df-2ae7dcf5-6baf-4040-ac67-30d8aafac7e5\">\n",
              "    <div class=\"colab-df-container\">\n",
              "      <div>\n",
              "<style scoped>\n",
              "    .dataframe tbody tr th:only-of-type {\n",
              "        vertical-align: middle;\n",
              "    }\n",
              "\n",
              "    .dataframe tbody tr th {\n",
              "        vertical-align: top;\n",
              "    }\n",
              "\n",
              "    .dataframe thead th {\n",
              "        text-align: right;\n",
              "    }\n",
              "</style>\n",
              "<table border=\"1\" class=\"dataframe\">\n",
              "  <thead>\n",
              "    <tr style=\"text-align: right;\">\n",
              "      <th></th>\n",
              "      <th>Unnamed: 0</th>\n",
              "      <th>title</th>\n",
              "      <th>text</th>\n",
              "      <th>label</th>\n",
              "      <th>Unnamed: 4</th>\n",
              "      <th>Unnamed: 5</th>\n",
              "      <th>Unnamed: 6</th>\n",
              "      <th>Unnamed: 7</th>\n",
              "      <th>Unnamed: 8</th>\n",
              "      <th>Unnamed: 9</th>\n",
              "      <th>...</th>\n",
              "      <th>Unnamed: 131</th>\n",
              "      <th>Unnamed: 132</th>\n",
              "      <th>Unnamed: 133</th>\n",
              "      <th>Unnamed: 134</th>\n",
              "      <th>Unnamed: 135</th>\n",
              "      <th>Unnamed: 136</th>\n",
              "      <th>Unnamed: 137</th>\n",
              "      <th>Unnamed: 138</th>\n",
              "      <th>Unnamed: 139</th>\n",
              "      <th>Unnamed: 140</th>\n",
              "    </tr>\n",
              "  </thead>\n",
              "  <tbody>\n",
              "    <tr>\n",
              "      <th>0</th>\n",
              "      <td>8476</td>\n",
              "      <td>You Can Smell Hillary’s Fear</td>\n",
              "      <td>Daniel Greenfield, a Shillman Journalism Fello...</td>\n",
              "      <td>FAKE</td>\n",
              "      <td>NaN</td>\n",
              "      <td>NaN</td>\n",
              "      <td>NaN</td>\n",
              "      <td>NaN</td>\n",
              "      <td>NaN</td>\n",
              "      <td>NaN</td>\n",
              "      <td>...</td>\n",
              "      <td>NaN</td>\n",
              "      <td>NaN</td>\n",
              "      <td>NaN</td>\n",
              "      <td>NaN</td>\n",
              "      <td>NaN</td>\n",
              "      <td>NaN</td>\n",
              "      <td>NaN</td>\n",
              "      <td>NaN</td>\n",
              "      <td>NaN</td>\n",
              "      <td>NaN</td>\n",
              "    </tr>\n",
              "    <tr>\n",
              "      <th>1</th>\n",
              "      <td>10294</td>\n",
              "      <td>Watch The Exact Moment Paul Ryan Committed Pol...</td>\n",
              "      <td>Google Pinterest Digg Linkedin Reddit Stumbleu...</td>\n",
              "      <td>FAKE</td>\n",
              "      <td>NaN</td>\n",
              "      <td>NaN</td>\n",
              "      <td>NaN</td>\n",
              "      <td>NaN</td>\n",
              "      <td>NaN</td>\n",
              "      <td>NaN</td>\n",
              "      <td>...</td>\n",
              "      <td>NaN</td>\n",
              "      <td>NaN</td>\n",
              "      <td>NaN</td>\n",
              "      <td>NaN</td>\n",
              "      <td>NaN</td>\n",
              "      <td>NaN</td>\n",
              "      <td>NaN</td>\n",
              "      <td>NaN</td>\n",
              "      <td>NaN</td>\n",
              "      <td>NaN</td>\n",
              "    </tr>\n",
              "    <tr>\n",
              "      <th>2</th>\n",
              "      <td>3608</td>\n",
              "      <td>Kerry to go to Paris in gesture of sympathy</td>\n",
              "      <td>U.S. Secretary of State John F. Kerry said Mon...</td>\n",
              "      <td>REAL</td>\n",
              "      <td>NaN</td>\n",
              "      <td>NaN</td>\n",
              "      <td>NaN</td>\n",
              "      <td>NaN</td>\n",
              "      <td>NaN</td>\n",
              "      <td>NaN</td>\n",
              "      <td>...</td>\n",
              "      <td>NaN</td>\n",
              "      <td>NaN</td>\n",
              "      <td>NaN</td>\n",
              "      <td>NaN</td>\n",
              "      <td>NaN</td>\n",
              "      <td>NaN</td>\n",
              "      <td>NaN</td>\n",
              "      <td>NaN</td>\n",
              "      <td>NaN</td>\n",
              "      <td>NaN</td>\n",
              "    </tr>\n",
              "    <tr>\n",
              "      <th>3</th>\n",
              "      <td>10142</td>\n",
              "      <td>Bernie supporters on Twitter erupt in anger ag...</td>\n",
              "      <td>— Kaydee King (@KaydeeKing) November 9, 2016 T...</td>\n",
              "      <td>FAKE</td>\n",
              "      <td>NaN</td>\n",
              "      <td>NaN</td>\n",
              "      <td>NaN</td>\n",
              "      <td>NaN</td>\n",
              "      <td>NaN</td>\n",
              "      <td>NaN</td>\n",
              "      <td>...</td>\n",
              "      <td>NaN</td>\n",
              "      <td>NaN</td>\n",
              "      <td>NaN</td>\n",
              "      <td>NaN</td>\n",
              "      <td>NaN</td>\n",
              "      <td>NaN</td>\n",
              "      <td>NaN</td>\n",
              "      <td>NaN</td>\n",
              "      <td>NaN</td>\n",
              "      <td>NaN</td>\n",
              "    </tr>\n",
              "    <tr>\n",
              "      <th>4</th>\n",
              "      <td>875</td>\n",
              "      <td>The Battle of New York: Why This Primary Matters</td>\n",
              "      <td>It's primary day in New York and front-runners...</td>\n",
              "      <td>REAL</td>\n",
              "      <td>NaN</td>\n",
              "      <td>NaN</td>\n",
              "      <td>NaN</td>\n",
              "      <td>NaN</td>\n",
              "      <td>NaN</td>\n",
              "      <td>NaN</td>\n",
              "      <td>...</td>\n",
              "      <td>NaN</td>\n",
              "      <td>NaN</td>\n",
              "      <td>NaN</td>\n",
              "      <td>NaN</td>\n",
              "      <td>NaN</td>\n",
              "      <td>NaN</td>\n",
              "      <td>NaN</td>\n",
              "      <td>NaN</td>\n",
              "      <td>NaN</td>\n",
              "      <td>NaN</td>\n",
              "    </tr>\n",
              "  </tbody>\n",
              "</table>\n",
              "<p>5 rows × 141 columns</p>\n",
              "</div>\n",
              "      <button class=\"colab-df-convert\" onclick=\"convertToInteractive('df-2ae7dcf5-6baf-4040-ac67-30d8aafac7e5')\"\n",
              "              title=\"Convert this dataframe to an interactive table.\"\n",
              "              style=\"display:none;\">\n",
              "        \n",
              "  <svg xmlns=\"http://www.w3.org/2000/svg\" height=\"24px\"viewBox=\"0 0 24 24\"\n",
              "       width=\"24px\">\n",
              "    <path d=\"M0 0h24v24H0V0z\" fill=\"none\"/>\n",
              "    <path d=\"M18.56 5.44l.94 2.06.94-2.06 2.06-.94-2.06-.94-.94-2.06-.94 2.06-2.06.94zm-11 1L8.5 8.5l.94-2.06 2.06-.94-2.06-.94L8.5 2.5l-.94 2.06-2.06.94zm10 10l.94 2.06.94-2.06 2.06-.94-2.06-.94-.94-2.06-.94 2.06-2.06.94z\"/><path d=\"M17.41 7.96l-1.37-1.37c-.4-.4-.92-.59-1.43-.59-.52 0-1.04.2-1.43.59L10.3 9.45l-7.72 7.72c-.78.78-.78 2.05 0 2.83L4 21.41c.39.39.9.59 1.41.59.51 0 1.02-.2 1.41-.59l7.78-7.78 2.81-2.81c.8-.78.8-2.07 0-2.86zM5.41 20L4 18.59l7.72-7.72 1.47 1.35L5.41 20z\"/>\n",
              "  </svg>\n",
              "      </button>\n",
              "      \n",
              "  <style>\n",
              "    .colab-df-container {\n",
              "      display:flex;\n",
              "      flex-wrap:wrap;\n",
              "      gap: 12px;\n",
              "    }\n",
              "\n",
              "    .colab-df-convert {\n",
              "      background-color: #E8F0FE;\n",
              "      border: none;\n",
              "      border-radius: 50%;\n",
              "      cursor: pointer;\n",
              "      display: none;\n",
              "      fill: #1967D2;\n",
              "      height: 32px;\n",
              "      padding: 0 0 0 0;\n",
              "      width: 32px;\n",
              "    }\n",
              "\n",
              "    .colab-df-convert:hover {\n",
              "      background-color: #E2EBFA;\n",
              "      box-shadow: 0px 1px 2px rgba(60, 64, 67, 0.3), 0px 1px 3px 1px rgba(60, 64, 67, 0.15);\n",
              "      fill: #174EA6;\n",
              "    }\n",
              "\n",
              "    [theme=dark] .colab-df-convert {\n",
              "      background-color: #3B4455;\n",
              "      fill: #D2E3FC;\n",
              "    }\n",
              "\n",
              "    [theme=dark] .colab-df-convert:hover {\n",
              "      background-color: #434B5C;\n",
              "      box-shadow: 0px 1px 3px 1px rgba(0, 0, 0, 0.15);\n",
              "      filter: drop-shadow(0px 1px 2px rgba(0, 0, 0, 0.3));\n",
              "      fill: #FFFFFF;\n",
              "    }\n",
              "  </style>\n",
              "\n",
              "      <script>\n",
              "        const buttonEl =\n",
              "          document.querySelector('#df-2ae7dcf5-6baf-4040-ac67-30d8aafac7e5 button.colab-df-convert');\n",
              "        buttonEl.style.display =\n",
              "          google.colab.kernel.accessAllowed ? 'block' : 'none';\n",
              "\n",
              "        async function convertToInteractive(key) {\n",
              "          const element = document.querySelector('#df-2ae7dcf5-6baf-4040-ac67-30d8aafac7e5');\n",
              "          const dataTable =\n",
              "            await google.colab.kernel.invokeFunction('convertToInteractive',\n",
              "                                                     [key], {});\n",
              "          if (!dataTable) return;\n",
              "\n",
              "          const docLinkHtml = 'Like what you see? Visit the ' +\n",
              "            '<a target=\"_blank\" href=https://colab.research.google.com/notebooks/data_table.ipynb>data table notebook</a>'\n",
              "            + ' to learn more about interactive tables.';\n",
              "          element.innerHTML = '';\n",
              "          dataTable['output_type'] = 'display_data';\n",
              "          await google.colab.output.renderOutput(dataTable, element);\n",
              "          const docLink = document.createElement('div');\n",
              "          docLink.innerHTML = docLinkHtml;\n",
              "          element.appendChild(docLink);\n",
              "        }\n",
              "      </script>\n",
              "    </div>\n",
              "  </div>\n",
              "  "
            ]
          },
          "metadata": {},
          "execution_count": 14
        }
      ]
    },
    {
      "cell_type": "code",
      "source": [
        "# COUNTING THE NUMBER OF MISSING VALUES IN THE DATASET\n",
        "news_dataset.isnull().sum()"
      ],
      "metadata": {
        "colab": {
          "base_uri": "https://localhost:8080/"
        },
        "id": "lgDTcvZ6Qhv5",
        "outputId": "fbde6218-267d-4fd0-ad36-d96c3efbb8b6"
      },
      "execution_count": 15,
      "outputs": [
        {
          "output_type": "execute_result",
          "data": {
            "text/plain": [
              "Unnamed: 0       219\n",
              "title            610\n",
              "text             866\n",
              "label           1040\n",
              "Unnamed: 4      7477\n",
              "                ... \n",
              "Unnamed: 136    7794\n",
              "Unnamed: 137    7794\n",
              "Unnamed: 138    7794\n",
              "Unnamed: 139    7794\n",
              "Unnamed: 140    7794\n",
              "Length: 141, dtype: int64"
            ]
          },
          "metadata": {},
          "execution_count": 15
        }
      ]
    },
    {
      "cell_type": "code",
      "source": [
        "news_dataset = news_dataset.fillna('')"
      ],
      "metadata": {
        "id": "cqO5cSYBQtlu"
      },
      "execution_count": 16,
      "outputs": []
    },
    {
      "cell_type": "code",
      "source": [
        "print(news_dataset['title'])"
      ],
      "metadata": {
        "colab": {
          "base_uri": "https://localhost:8080/"
        },
        "id": "Xv9mCPYCQ45s",
        "outputId": "0c4dab16-2931-41ac-c883-0a1753164b4b"
      },
      "execution_count": 17,
      "outputs": [
        {
          "output_type": "stream",
          "name": "stdout",
          "text": [
            "0                            You Can Smell Hillary’s Fear\n",
            "1       Watch The Exact Moment Paul Ryan Committed Pol...\n",
            "2             Kerry to go to Paris in gesture of sympathy\n",
            "3       Bernie supporters on Twitter erupt in anger ag...\n",
            "4        The Battle of New York: Why This Primary Matters\n",
            "                              ...                        \n",
            "7790    State Department says it can't find emails fro...\n",
            "7791    The ‘P’ in PBS Should Stand for ‘Plutocratic’ ...\n",
            "7792    Anti-Trump Protesters Are Tools of the Oligarc...\n",
            "7793    In Ethiopia, Obama seeks progress on peace, se...\n",
            "7794    Jeb Bush Is Suddenly Attacking Trump. Here's W...\n",
            "Name: title, Length: 7795, dtype: object\n"
          ]
        }
      ]
    },
    {
      "cell_type": "code",
      "source": [
        "# SEPARATING THE DATA AND LABEL\n",
        "X = news_dataset.drop(columns='label', axis=1)\n",
        "Y = news_dataset['label']\n",
        "print(X)\n",
        "print(Y)"
      ],
      "metadata": {
        "colab": {
          "base_uri": "https://localhost:8080/"
        },
        "id": "oXmHjrabQ9PU",
        "outputId": "d0db495a-77cf-47a0-85cb-8f742750379c"
      },
      "execution_count": 19,
      "outputs": [
        {
          "output_type": "stream",
          "name": "stdout",
          "text": [
            "     Unnamed: 0                                              title  \\\n",
            "0          8476                       You Can Smell Hillary’s Fear   \n",
            "1         10294  Watch The Exact Moment Paul Ryan Committed Pol...   \n",
            "2          3608        Kerry to go to Paris in gesture of sympathy   \n",
            "3         10142  Bernie supporters on Twitter erupt in anger ag...   \n",
            "4           875   The Battle of New York: Why This Primary Matters   \n",
            "...         ...                                                ...   \n",
            "7790       4490  State Department says it can't find emails fro...   \n",
            "7791       8062  The ‘P’ in PBS Should Stand for ‘Plutocratic’ ...   \n",
            "7792       8622  Anti-Trump Protesters Are Tools of the Oligarc...   \n",
            "7793       4021  In Ethiopia, Obama seeks progress on peace, se...   \n",
            "7794       4330  Jeb Bush Is Suddenly Attacking Trump. Here's W...   \n",
            "\n",
            "                                                   text Unnamed: 4 Unnamed: 5  \\\n",
            "0     Daniel Greenfield, a Shillman Journalism Fello...                         \n",
            "1     Google Pinterest Digg Linkedin Reddit Stumbleu...                         \n",
            "2     U.S. Secretary of State John F. Kerry said Mon...                         \n",
            "3     — Kaydee King (@KaydeeKing) November 9, 2016 T...                         \n",
            "4     It's primary day in New York and front-runners...                         \n",
            "...                                                 ...        ...        ...   \n",
            "7790  The State Department told the Republican Natio...                         \n",
            "7791  The ‘P’ in PBS Should Stand for ‘Plutocratic’ ...                         \n",
            "7792   Anti-Trump Protesters Are Tools of the Oligar...                         \n",
            "7793  ADDIS ABABA, Ethiopia —President Obama convene...                         \n",
            "7794  Jeb Bush Is Suddenly Attacking Trump. Here's W...                         \n",
            "\n",
            "     Unnamed: 6 Unnamed: 7 Unnamed: 8 Unnamed: 9 Unnamed: 10  ...  \\\n",
            "0                                                             ...   \n",
            "1                                                             ...   \n",
            "2                                                             ...   \n",
            "3                                                             ...   \n",
            "4                                                             ...   \n",
            "...         ...        ...        ...        ...         ...  ...   \n",
            "7790                                                          ...   \n",
            "7791                                                          ...   \n",
            "7792                                                          ...   \n",
            "7793                                                          ...   \n",
            "7794                                                          ...   \n",
            "\n",
            "     Unnamed: 131 Unnamed: 132 Unnamed: 133 Unnamed: 134 Unnamed: 135  \\\n",
            "0                                                                       \n",
            "1                                                                       \n",
            "2                                                                       \n",
            "3                                                                       \n",
            "4                                                                       \n",
            "...           ...          ...          ...          ...          ...   \n",
            "7790                                                                    \n",
            "7791                                                                    \n",
            "7792                                                                    \n",
            "7793                                                                    \n",
            "7794                                                                    \n",
            "\n",
            "     Unnamed: 136 Unnamed: 137 Unnamed: 138 Unnamed: 139 Unnamed: 140  \n",
            "0                                                                      \n",
            "1                                                                      \n",
            "2                                                                      \n",
            "3                                                                      \n",
            "4                                                                      \n",
            "...           ...          ...          ...          ...          ...  \n",
            "7790                                                                   \n",
            "7791                                                                   \n",
            "7792                                                                   \n",
            "7793                                                                   \n",
            "7794                                                                   \n",
            "\n",
            "[7795 rows x 140 columns]\n",
            "0       FAKE\n",
            "1       FAKE\n",
            "2       REAL\n",
            "3       FAKE\n",
            "4       REAL\n",
            "        ... \n",
            "7790    REAL\n",
            "7791    FAKE\n",
            "7792    FAKE\n",
            "7793    REAL\n",
            "7794    REAL\n",
            "Name: label, Length: 7795, dtype: object\n"
          ]
        }
      ]
    },
    {
      "cell_type": "code",
      "source": [
        "port_stem = PorterStemmer()\n",
        "def stemming(title):\n",
        "  stemmed_content = re.sub('[^a-zA-Z]',' ',title)\n",
        "  stemmed_content = stemmed_content.lower()\n",
        "  stemmed_content = stemmed_content.split()\n",
        "  stemmed_content = [port_stem.stem(word) for word in stemmed_content if not word in stopwords.words('english')]\n",
        "  stemmed_content = ' '.join(stemmed_content)\n",
        "  return stemmed_content\n",
        "news_dataset['title'] = news_dataset['title'].apply(stemming)\n",
        "print(news_dataset['title'])\n"
      ],
      "metadata": {
        "colab": {
          "base_uri": "https://localhost:8080/"
        },
        "id": "V9FJS5lhTyEv",
        "outputId": "7d03ec84-5260-44e7-cc81-2f09be5447ab"
      },
      "execution_count": 21,
      "outputs": [
        {
          "output_type": "stream",
          "name": "stdout",
          "text": [
            "0                                      smell hillari fear\n",
            "1       watch exact moment paul ryan commit polit suic...\n",
            "2                           kerri go pari gestur sympathi\n",
            "3          berni support twitter erupt anger dnc tri warn\n",
            "4                           battl new york primari matter\n",
            "                              ...                        \n",
            "7790       state depart say find email clinton specialist\n",
            "7791                        p pb stand plutocrat pentagon\n",
            "7792             anti trump protest tool oligarchi inform\n",
            "7793    ethiopia obama seek progress peac secur east a...\n",
            "7794                jeb bush suddenli attack trump matter\n",
            "Name: title, Length: 7795, dtype: object\n"
          ]
        }
      ]
    },
    {
      "cell_type": "code",
      "source": [
        "# SEPARATING THE DATA AND LABEL\n",
        "X = news_dataset['title'].values\n",
        "Y = news_dataset['label'].values\n",
        "print(X)\n"
      ],
      "metadata": {
        "colab": {
          "base_uri": "https://localhost:8080/"
        },
        "id": "q2K6WBhKURI4",
        "outputId": "9f4c379d-91e0-4284-b072-0c738e185256"
      },
      "execution_count": 23,
      "outputs": [
        {
          "output_type": "stream",
          "name": "stdout",
          "text": [
            "['smell hillari fear'\n",
            " 'watch exact moment paul ryan commit polit suicid trump ralli video'\n",
            " 'kerri go pari gestur sympathi' ...\n",
            " 'anti trump protest tool oligarchi inform'\n",
            " 'ethiopia obama seek progress peac secur east africa'\n",
            " 'jeb bush suddenli attack trump matter']\n"
          ]
        }
      ]
    },
    {
      "cell_type": "code",
      "source": [
        "print(Y)"
      ],
      "metadata": {
        "colab": {
          "base_uri": "https://localhost:8080/"
        },
        "id": "XUQhlvIFUT2E",
        "outputId": "622ab459-bb9c-49d0-c6a1-c58670d77d7f"
      },
      "execution_count": 24,
      "outputs": [
        {
          "output_type": "stream",
          "name": "stdout",
          "text": [
            "['FAKE' 'FAKE' 'REAL' ... 'FAKE' 'REAL' 'REAL']\n"
          ]
        }
      ]
    },
    {
      "cell_type": "code",
      "source": [
        "Y.shape"
      ],
      "metadata": {
        "colab": {
          "base_uri": "https://localhost:8080/"
        },
        "id": "emuWzD7GUZL_",
        "outputId": "a25cdad3-9ff5-4ee5-9101-ea53cd69adbc"
      },
      "execution_count": 25,
      "outputs": [
        {
          "output_type": "execute_result",
          "data": {
            "text/plain": [
              "(7795,)"
            ]
          },
          "metadata": {},
          "execution_count": 25
        }
      ]
    },
    {
      "cell_type": "code",
      "source": [
        "# CONVERTING THE TEXTUAL DATA TO NUMERICAL DATA\n",
        "vectorizer = TfidfVectorizer()\n",
        "vectorizer.fit(X)\n",
        "X = vectorizer.transform(X)\n",
        "print(X)\n"
      ],
      "metadata": {
        "colab": {
          "base_uri": "https://localhost:8080/"
        },
        "id": "wtci-684UbRi",
        "outputId": "34c8b05e-38dd-4f68-9e72-d3ba7e435b76"
      },
      "execution_count": 26,
      "outputs": [
        {
          "output_type": "stream",
          "name": "stdout",
          "text": [
            "  (0, 6295)\t0.7626938120805434\n",
            "  (0, 3151)\t0.3268826814067037\n",
            "  (0, 2500)\t0.5580733478767933\n",
            "  (1, 7456)\t0.2829626896247514\n",
            "  (1, 7349)\t0.22501798098545717\n",
            "  (1, 7061)\t0.1436909337025267\n",
            "  (1, 6627)\t0.35371370710604855\n",
            "  (1, 5872)\t0.2990671877006965\n",
            "  (1, 5480)\t0.2990671877006965\n",
            "  (1, 5175)\t0.24803105695712827\n",
            "  (1, 4984)\t0.27394480495762513\n",
            "  (1, 4402)\t0.32880288996167356\n",
            "  (1, 2356)\t0.4181701801321407\n",
            "  (1, 1360)\t0.35371370710604855\n",
            "  (2, 6718)\t0.5131942385297146\n",
            "  (2, 4943)\t0.3854204598747483\n",
            "  (2, 3730)\t0.4280117194264037\n",
            "  (2, 2882)\t0.3291178772767753\n",
            "  (2, 2837)\t0.5445825314314873\n",
            "  (3, 7443)\t0.31941695607568427\n",
            "  (3, 7108)\t0.37411079121086527\n",
            "  (3, 7030)\t0.31105482541300034\n",
            "  (3, 6656)\t0.2767436395536421\n",
            "  (3, 2293)\t0.4452870054631296\n",
            "  (3, 1977)\t0.35343688824367275\n",
            "  :\t:\n",
            "  (7790, 1274)\t0.21943768072462183\n",
            "  (7791, 6475)\t0.38837550631498924\n",
            "  (7791, 5154)\t0.5530598279361728\n",
            "  (7791, 5020)\t0.4569318872066389\n",
            "  (7791, 4996)\t0.5783619483261031\n",
            "  (7792, 7061)\t0.18453904566694015\n",
            "  (7792, 6951)\t0.537046590063328\n",
            "  (7792, 5364)\t0.35021521811625833\n",
            "  (7792, 4769)\t0.5116527902993385\n",
            "  (7792, 3416)\t0.4030167794809183\n",
            "  (7792, 281)\t0.3614754477985998\n",
            "  (7793, 6024)\t0.3344008419999221\n",
            "  (7793, 6021)\t0.3146109844084572\n",
            "  (7793, 5337)\t0.3640211020574405\n",
            "  (7793, 4999)\t0.3640211020574405\n",
            "  (7793, 4719)\t0.20634173774684844\n",
            "  (7793, 2317)\t0.42996472046873874\n",
            "  (7793, 2118)\t0.37008467792918825\n",
            "  (7793, 114)\t0.39970493798670664\n",
            "  (7794, 7061)\t0.20353007667007753\n",
            "  (7794, 6619)\t0.5769009825789405\n",
            "  (7794, 4203)\t0.4266822088146035\n",
            "  (7794, 3586)\t0.4100241838567959\n",
            "  (7794, 967)\t0.38452915015504185\n",
            "  (7794, 427)\t0.3573801312395893\n"
          ]
        }
      ]
    },
    {
      "cell_type": "code",
      "source": [
        "from sklearn.model_selection import train_test_split\n",
        "X_train, X_test, Y_train, Y_test = train_test_split(X, Y, test_size=0.2, random_state=42)"
      ],
      "metadata": {
        "id": "iM_DabWDUeaj"
      },
      "execution_count": 27,
      "outputs": []
    },
    {
      "cell_type": "code",
      "source": [
        "model = LogisticRegression()\n",
        "model.fit(X_train, Y_train)\n"
      ],
      "metadata": {
        "colab": {
          "base_uri": "https://localhost:8080/",
          "height": 233
        },
        "id": "iyl2W4dSUhzf",
        "outputId": "bacf622c-4d47-448b-8387-6ddc9cfa9b15"
      },
      "execution_count": 28,
      "outputs": [
        {
          "output_type": "stream",
          "name": "stderr",
          "text": [
            "/usr/local/lib/python3.10/dist-packages/sklearn/linear_model/_logistic.py:458: ConvergenceWarning: lbfgs failed to converge (status=1):\n",
            "STOP: TOTAL NO. of ITERATIONS REACHED LIMIT.\n",
            "\n",
            "Increase the number of iterations (max_iter) or scale the data as shown in:\n",
            "    https://scikit-learn.org/stable/modules/preprocessing.html\n",
            "Please also refer to the documentation for alternative solver options:\n",
            "    https://scikit-learn.org/stable/modules/linear_model.html#logistic-regression\n",
            "  n_iter_i = _check_optimize_result(\n"
          ]
        },
        {
          "output_type": "execute_result",
          "data": {
            "text/plain": [
              "LogisticRegression()"
            ],
            "text/html": [
              "<style>#sk-container-id-1 {color: black;background-color: white;}#sk-container-id-1 pre{padding: 0;}#sk-container-id-1 div.sk-toggleable {background-color: white;}#sk-container-id-1 label.sk-toggleable__label {cursor: pointer;display: block;width: 100%;margin-bottom: 0;padding: 0.3em;box-sizing: border-box;text-align: center;}#sk-container-id-1 label.sk-toggleable__label-arrow:before {content: \"▸\";float: left;margin-right: 0.25em;color: #696969;}#sk-container-id-1 label.sk-toggleable__label-arrow:hover:before {color: black;}#sk-container-id-1 div.sk-estimator:hover label.sk-toggleable__label-arrow:before {color: black;}#sk-container-id-1 div.sk-toggleable__content {max-height: 0;max-width: 0;overflow: hidden;text-align: left;background-color: #f0f8ff;}#sk-container-id-1 div.sk-toggleable__content pre {margin: 0.2em;color: black;border-radius: 0.25em;background-color: #f0f8ff;}#sk-container-id-1 input.sk-toggleable__control:checked~div.sk-toggleable__content {max-height: 200px;max-width: 100%;overflow: auto;}#sk-container-id-1 input.sk-toggleable__control:checked~label.sk-toggleable__label-arrow:before {content: \"▾\";}#sk-container-id-1 div.sk-estimator input.sk-toggleable__control:checked~label.sk-toggleable__label {background-color: #d4ebff;}#sk-container-id-1 div.sk-label input.sk-toggleable__control:checked~label.sk-toggleable__label {background-color: #d4ebff;}#sk-container-id-1 input.sk-hidden--visually {border: 0;clip: rect(1px 1px 1px 1px);clip: rect(1px, 1px, 1px, 1px);height: 1px;margin: -1px;overflow: hidden;padding: 0;position: absolute;width: 1px;}#sk-container-id-1 div.sk-estimator {font-family: monospace;background-color: #f0f8ff;border: 1px dotted black;border-radius: 0.25em;box-sizing: border-box;margin-bottom: 0.5em;}#sk-container-id-1 div.sk-estimator:hover {background-color: #d4ebff;}#sk-container-id-1 div.sk-parallel-item::after {content: \"\";width: 100%;border-bottom: 1px solid gray;flex-grow: 1;}#sk-container-id-1 div.sk-label:hover label.sk-toggleable__label {background-color: #d4ebff;}#sk-container-id-1 div.sk-serial::before {content: \"\";position: absolute;border-left: 1px solid gray;box-sizing: border-box;top: 0;bottom: 0;left: 50%;z-index: 0;}#sk-container-id-1 div.sk-serial {display: flex;flex-direction: column;align-items: center;background-color: white;padding-right: 0.2em;padding-left: 0.2em;position: relative;}#sk-container-id-1 div.sk-item {position: relative;z-index: 1;}#sk-container-id-1 div.sk-parallel {display: flex;align-items: stretch;justify-content: center;background-color: white;position: relative;}#sk-container-id-1 div.sk-item::before, #sk-container-id-1 div.sk-parallel-item::before {content: \"\";position: absolute;border-left: 1px solid gray;box-sizing: border-box;top: 0;bottom: 0;left: 50%;z-index: -1;}#sk-container-id-1 div.sk-parallel-item {display: flex;flex-direction: column;z-index: 1;position: relative;background-color: white;}#sk-container-id-1 div.sk-parallel-item:first-child::after {align-self: flex-end;width: 50%;}#sk-container-id-1 div.sk-parallel-item:last-child::after {align-self: flex-start;width: 50%;}#sk-container-id-1 div.sk-parallel-item:only-child::after {width: 0;}#sk-container-id-1 div.sk-dashed-wrapped {border: 1px dashed gray;margin: 0 0.4em 0.5em 0.4em;box-sizing: border-box;padding-bottom: 0.4em;background-color: white;}#sk-container-id-1 div.sk-label label {font-family: monospace;font-weight: bold;display: inline-block;line-height: 1.2em;}#sk-container-id-1 div.sk-label-container {text-align: center;}#sk-container-id-1 div.sk-container {/* jupyter's `normalize.less` sets `[hidden] { display: none; }` but bootstrap.min.css set `[hidden] { display: none !important; }` so we also need the `!important` here to be able to override the default hidden behavior on the sphinx rendered scikit-learn.org. See: https://github.com/scikit-learn/scikit-learn/issues/21755 */display: inline-block !important;position: relative;}#sk-container-id-1 div.sk-text-repr-fallback {display: none;}</style><div id=\"sk-container-id-1\" class=\"sk-top-container\"><div class=\"sk-text-repr-fallback\"><pre>LogisticRegression()</pre><b>In a Jupyter environment, please rerun this cell to show the HTML representation or trust the notebook. <br />On GitHub, the HTML representation is unable to render, please try loading this page with nbviewer.org.</b></div><div class=\"sk-container\" hidden><div class=\"sk-item\"><div class=\"sk-estimator sk-toggleable\"><input class=\"sk-toggleable__control sk-hidden--visually\" id=\"sk-estimator-id-1\" type=\"checkbox\" checked><label for=\"sk-estimator-id-1\" class=\"sk-toggleable__label sk-toggleable__label-arrow\">LogisticRegression</label><div class=\"sk-toggleable__content\"><pre>LogisticRegression()</pre></div></div></div></div></div>"
            ]
          },
          "metadata": {},
          "execution_count": 28
        }
      ]
    },
    {
      "cell_type": "code",
      "source": [
        "X_train_prediction = model.predict(X_train)\n",
        "training_data_accuracy = accuracy_score(X_train_prediction, Y_train)\n",
        "print('Accuracy score of the training data : ', training_data_accuracy)\n"
      ],
      "metadata": {
        "colab": {
          "base_uri": "https://localhost:8080/"
        },
        "id": "K2wyefVaUsPx",
        "outputId": "d90ab7f4-5696-47c3-fef6-ef526a50b865"
      },
      "execution_count": 29,
      "outputs": [
        {
          "output_type": "stream",
          "name": "stdout",
          "text": [
            "Accuracy score of the training data :  0.8678640153944837\n"
          ]
        }
      ]
    },
    {
      "cell_type": "code",
      "source": [
        "X_test_prediction = model.predict(X_test)\n",
        "test_data_accuracy = accuracy_score(X_test_prediction, Y_test)\n",
        "print('Accuracy score of the test data : ', test_data_accuracy)\n"
      ],
      "metadata": {
        "colab": {
          "base_uri": "https://localhost:8080/"
        },
        "id": "obKCYNwhU3t3",
        "outputId": "0cf166fc-3434-4b3e-d957-4b1c0cc77265"
      },
      "execution_count": 30,
      "outputs": [
        {
          "output_type": "stream",
          "name": "stdout",
          "text": [
            "Accuracy score of the test data :  0.7459910198845414\n"
          ]
        }
      ]
    },
    {
      "cell_type": "code",
      "source": [
        "X_new = X_test[3]\n",
        "prediction = model.predict(X_new)\n",
        "print(prediction)\n",
        "if (prediction[0]=='REAL'):\n",
        "  print('The news is Real')\n",
        "else:\n",
        "  print('The news is Fake')"
      ],
      "metadata": {
        "colab": {
          "base_uri": "https://localhost:8080/"
        },
        "id": "2ijH-KgzU66j",
        "outputId": "53f6b4fc-fe41-4adc-b903-299d63bd6b29"
      },
      "execution_count": 32,
      "outputs": [
        {
          "output_type": "stream",
          "name": "stdout",
          "text": [
            "['FAKE']\n",
            "The news is Fake\n"
          ]
        }
      ]
    },
    {
      "cell_type": "code",
      "source": [
        "print(Y_test[3])"
      ],
      "metadata": {
        "colab": {
          "base_uri": "https://localhost:8080/"
        },
        "id": "OOo3-q6DU-__",
        "outputId": "2782e4ba-378b-4569-d776-dff641068861"
      },
      "execution_count": 33,
      "outputs": [
        {
          "output_type": "stream",
          "name": "stdout",
          "text": [
            "FAKE\n"
          ]
        }
      ]
    }
  ]
}